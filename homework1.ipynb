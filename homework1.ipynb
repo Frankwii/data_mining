{
 "cells": [
  {
   "cell_type": "markdown",
   "metadata": {},
   "source": [
    "# Homework 1\n",
    "**The goal of this homework is to improve the simple classifier explained in the book starting on page 40. It uses a pretrained transformer and then the logistic regression classifier of page 44 uses only the first hidden state for each input text.**\n",
    "\n",
    "**You should use the full hidden states to classify each input text, and use a neural network instead of a regression classifier. Then, compare the results with the book’s on page 44.**\n",
    "\n",
    "**You have 11 days to do it, by pairs. Start working early as you may need computing time to get the results. Please submit a Jupyter notebook or similar, and include some conclusions.**"
   ]
  },
  {
   "cell_type": "markdown",
   "metadata": {},
   "source": [
    "## Solution\n",
    "**Authors: Frank William Hammond Espinosa, Maria dels Àngels Llobera González**\n",
    "\n",
    "**Date: March 17th, 2025**\n",
    "\n",
    "### Equipment\n",
    "Training was carried out on a 12 GB NVIDIA RTX 4070 GPU owned by one of the authors.\n",
    "\n",
    "### Requirements\n",
    "\n",
    "Execution of this notebook assumes a \"fresh\" Python 3.13.2 interpreter.\n",
    "\n",
    "Check the `requirements.txt` file on the root of the project for the necessary dependencies. They will be installed when executing the first code cell.\n",
    "\n",
    "### Preliminaries\n",
    "First, we make sure to install and import the necessary libraries, and specify the device `pytorch` should use (`cuda` in our case, but for compatibility with non-CUDA systems `cpu` may be used, albeit execution will be much slower).\n",
    "\n",
    "We also define a useful utility method `print_available_memory`. It prints the currently available GPU memory. It was used thoroughly during training to track memory usage since on early stages we faced issues with the capacity of the graphics card."
   ]
  },
  {
   "cell_type": "code",
   "execution_count": 1,
   "metadata": {},
   "outputs": [
    {
     "name": "stdout",
     "output_type": "stream",
     "text": [
      "Requirement already satisfied: transformers in ./.venv/lib/python3.13/site-packages (from -r requirements.txt (line 1)) (4.49.0)\n",
      "Requirement already satisfied: datasets in ./.venv/lib/python3.13/site-packages (from -r requirements.txt (line 2)) (3.4.0)\n",
      "Requirement already satisfied: torch in ./.venv/lib/python3.13/site-packages (from -r requirements.txt (line 3)) (2.6.0)\n",
      "Requirement already satisfied: numpy in ./.venv/lib/python3.13/site-packages (from -r requirements.txt (line 4)) (2.2.3)\n",
      "Requirement already satisfied: scikit-learn in ./.venv/lib/python3.13/site-packages (from -r requirements.txt (line 5)) (1.6.1)\n",
      "Requirement already satisfied: matplotlib in ./.venv/lib/python3.13/site-packages (from -r requirements.txt (line 6)) (3.10.1)\n",
      "Requirement already satisfied: pyqt6 in ./.venv/lib/python3.13/site-packages (from -r requirements.txt (line 7)) (6.8.1)\n",
      "Requirement already satisfied: filelock in ./.venv/lib/python3.13/site-packages (from transformers->-r requirements.txt (line 1)) (3.18.0)\n",
      "Requirement already satisfied: huggingface-hub<1.0,>=0.26.0 in ./.venv/lib/python3.13/site-packages (from transformers->-r requirements.txt (line 1)) (0.29.3)\n",
      "Requirement already satisfied: packaging>=20.0 in ./.venv/lib/python3.13/site-packages (from transformers->-r requirements.txt (line 1)) (24.2)\n",
      "Requirement already satisfied: pyyaml>=5.1 in ./.venv/lib/python3.13/site-packages (from transformers->-r requirements.txt (line 1)) (6.0.2)\n",
      "Requirement already satisfied: regex!=2019.12.17 in ./.venv/lib/python3.13/site-packages (from transformers->-r requirements.txt (line 1)) (2024.11.6)\n",
      "Requirement already satisfied: requests in ./.venv/lib/python3.13/site-packages (from transformers->-r requirements.txt (line 1)) (2.32.3)\n",
      "Requirement already satisfied: tokenizers<0.22,>=0.21 in ./.venv/lib/python3.13/site-packages (from transformers->-r requirements.txt (line 1)) (0.21.1)\n",
      "Requirement already satisfied: safetensors>=0.4.1 in ./.venv/lib/python3.13/site-packages (from transformers->-r requirements.txt (line 1)) (0.5.3)\n",
      "Requirement already satisfied: tqdm>=4.27 in ./.venv/lib/python3.13/site-packages (from transformers->-r requirements.txt (line 1)) (4.67.1)\n",
      "Requirement already satisfied: pyarrow>=15.0.0 in ./.venv/lib/python3.13/site-packages (from datasets->-r requirements.txt (line 2)) (19.0.1)\n",
      "Requirement already satisfied: dill<0.3.9,>=0.3.0 in ./.venv/lib/python3.13/site-packages (from datasets->-r requirements.txt (line 2)) (0.3.8)\n",
      "Requirement already satisfied: pandas in ./.venv/lib/python3.13/site-packages (from datasets->-r requirements.txt (line 2)) (2.2.3)\n",
      "Requirement already satisfied: xxhash in ./.venv/lib/python3.13/site-packages (from datasets->-r requirements.txt (line 2)) (3.5.0)\n",
      "Requirement already satisfied: multiprocess<0.70.17 in ./.venv/lib/python3.13/site-packages (from datasets->-r requirements.txt (line 2)) (0.70.16)\n",
      "Requirement already satisfied: fsspec<=2024.12.0,>=2023.1.0 in ./.venv/lib/python3.13/site-packages (from fsspec[http]<=2024.12.0,>=2023.1.0->datasets->-r requirements.txt (line 2)) (2024.12.0)\n",
      "Requirement already satisfied: aiohttp in ./.venv/lib/python3.13/site-packages (from datasets->-r requirements.txt (line 2)) (3.11.13)\n",
      "Requirement already satisfied: typing-extensions>=4.10.0 in ./.venv/lib/python3.13/site-packages (from torch->-r requirements.txt (line 3)) (4.12.2)\n",
      "Requirement already satisfied: networkx in ./.venv/lib/python3.13/site-packages (from torch->-r requirements.txt (line 3)) (3.4.2)\n",
      "Requirement already satisfied: jinja2 in ./.venv/lib/python3.13/site-packages (from torch->-r requirements.txt (line 3)) (3.1.6)\n",
      "Requirement already satisfied: nvidia-cuda-nvrtc-cu12==12.4.127 in ./.venv/lib/python3.13/site-packages (from torch->-r requirements.txt (line 3)) (12.4.127)\n",
      "Requirement already satisfied: nvidia-cuda-runtime-cu12==12.4.127 in ./.venv/lib/python3.13/site-packages (from torch->-r requirements.txt (line 3)) (12.4.127)\n",
      "Requirement already satisfied: nvidia-cuda-cupti-cu12==12.4.127 in ./.venv/lib/python3.13/site-packages (from torch->-r requirements.txt (line 3)) (12.4.127)\n",
      "Requirement already satisfied: nvidia-cudnn-cu12==9.1.0.70 in ./.venv/lib/python3.13/site-packages (from torch->-r requirements.txt (line 3)) (9.1.0.70)\n",
      "Requirement already satisfied: nvidia-cublas-cu12==12.4.5.8 in ./.venv/lib/python3.13/site-packages (from torch->-r requirements.txt (line 3)) (12.4.5.8)\n",
      "Requirement already satisfied: nvidia-cufft-cu12==11.2.1.3 in ./.venv/lib/python3.13/site-packages (from torch->-r requirements.txt (line 3)) (11.2.1.3)\n",
      "Requirement already satisfied: nvidia-curand-cu12==10.3.5.147 in ./.venv/lib/python3.13/site-packages (from torch->-r requirements.txt (line 3)) (10.3.5.147)\n",
      "Requirement already satisfied: nvidia-cusolver-cu12==11.6.1.9 in ./.venv/lib/python3.13/site-packages (from torch->-r requirements.txt (line 3)) (11.6.1.9)\n",
      "Requirement already satisfied: nvidia-cusparse-cu12==12.3.1.170 in ./.venv/lib/python3.13/site-packages (from torch->-r requirements.txt (line 3)) (12.3.1.170)\n",
      "Requirement already satisfied: nvidia-cusparselt-cu12==0.6.2 in ./.venv/lib/python3.13/site-packages (from torch->-r requirements.txt (line 3)) (0.6.2)\n",
      "Requirement already satisfied: nvidia-nccl-cu12==2.21.5 in ./.venv/lib/python3.13/site-packages (from torch->-r requirements.txt (line 3)) (2.21.5)\n",
      "Requirement already satisfied: nvidia-nvtx-cu12==12.4.127 in ./.venv/lib/python3.13/site-packages (from torch->-r requirements.txt (line 3)) (12.4.127)\n",
      "Requirement already satisfied: nvidia-nvjitlink-cu12==12.4.127 in ./.venv/lib/python3.13/site-packages (from torch->-r requirements.txt (line 3)) (12.4.127)\n",
      "Requirement already satisfied: triton==3.2.0 in ./.venv/lib/python3.13/site-packages (from torch->-r requirements.txt (line 3)) (3.2.0)\n",
      "Requirement already satisfied: setuptools in ./.venv/lib/python3.13/site-packages (from torch->-r requirements.txt (line 3)) (76.0.0)\n",
      "Requirement already satisfied: sympy==1.13.1 in ./.venv/lib/python3.13/site-packages (from torch->-r requirements.txt (line 3)) (1.13.1)\n",
      "Requirement already satisfied: mpmath<1.4,>=1.1.0 in ./.venv/lib/python3.13/site-packages (from sympy==1.13.1->torch->-r requirements.txt (line 3)) (1.3.0)\n",
      "Requirement already satisfied: scipy>=1.6.0 in ./.venv/lib/python3.13/site-packages (from scikit-learn->-r requirements.txt (line 5)) (1.15.2)\n",
      "Requirement already satisfied: joblib>=1.2.0 in ./.venv/lib/python3.13/site-packages (from scikit-learn->-r requirements.txt (line 5)) (1.4.2)\n",
      "Requirement already satisfied: threadpoolctl>=3.1.0 in ./.venv/lib/python3.13/site-packages (from scikit-learn->-r requirements.txt (line 5)) (3.6.0)\n",
      "Requirement already satisfied: contourpy>=1.0.1 in ./.venv/lib/python3.13/site-packages (from matplotlib->-r requirements.txt (line 6)) (1.3.1)\n",
      "Requirement already satisfied: cycler>=0.10 in ./.venv/lib/python3.13/site-packages (from matplotlib->-r requirements.txt (line 6)) (0.12.1)\n",
      "Requirement already satisfied: fonttools>=4.22.0 in ./.venv/lib/python3.13/site-packages (from matplotlib->-r requirements.txt (line 6)) (4.56.0)\n",
      "Requirement already satisfied: kiwisolver>=1.3.1 in ./.venv/lib/python3.13/site-packages (from matplotlib->-r requirements.txt (line 6)) (1.4.8)\n",
      "Requirement already satisfied: pillow>=8 in ./.venv/lib/python3.13/site-packages (from matplotlib->-r requirements.txt (line 6)) (11.1.0)\n",
      "Requirement already satisfied: pyparsing>=2.3.1 in ./.venv/lib/python3.13/site-packages (from matplotlib->-r requirements.txt (line 6)) (3.2.1)\n",
      "Requirement already satisfied: python-dateutil>=2.7 in ./.venv/lib/python3.13/site-packages (from matplotlib->-r requirements.txt (line 6)) (2.9.0.post0)\n",
      "Requirement already satisfied: PyQt6-sip<14,>=13.8 in ./.venv/lib/python3.13/site-packages (from pyqt6->-r requirements.txt (line 7)) (13.10.0)\n",
      "Requirement already satisfied: PyQt6-Qt6<6.9.0,>=6.8.0 in ./.venv/lib/python3.13/site-packages (from pyqt6->-r requirements.txt (line 7)) (6.8.2)\n",
      "Requirement already satisfied: aiohappyeyeballs>=2.3.0 in ./.venv/lib/python3.13/site-packages (from aiohttp->datasets->-r requirements.txt (line 2)) (2.6.1)\n",
      "Requirement already satisfied: aiosignal>=1.1.2 in ./.venv/lib/python3.13/site-packages (from aiohttp->datasets->-r requirements.txt (line 2)) (1.3.2)\n",
      "Requirement already satisfied: attrs>=17.3.0 in ./.venv/lib/python3.13/site-packages (from aiohttp->datasets->-r requirements.txt (line 2)) (25.3.0)\n",
      "Requirement already satisfied: frozenlist>=1.1.1 in ./.venv/lib/python3.13/site-packages (from aiohttp->datasets->-r requirements.txt (line 2)) (1.5.0)\n",
      "Requirement already satisfied: multidict<7.0,>=4.5 in ./.venv/lib/python3.13/site-packages (from aiohttp->datasets->-r requirements.txt (line 2)) (6.1.0)\n",
      "Requirement already satisfied: propcache>=0.2.0 in ./.venv/lib/python3.13/site-packages (from aiohttp->datasets->-r requirements.txt (line 2)) (0.3.0)\n",
      "Requirement already satisfied: yarl<2.0,>=1.17.0 in ./.venv/lib/python3.13/site-packages (from aiohttp->datasets->-r requirements.txt (line 2)) (1.18.3)\n",
      "Requirement already satisfied: six>=1.5 in ./.venv/lib/python3.13/site-packages (from python-dateutil>=2.7->matplotlib->-r requirements.txt (line 6)) (1.17.0)\n",
      "Requirement already satisfied: charset-normalizer<4,>=2 in ./.venv/lib/python3.13/site-packages (from requests->transformers->-r requirements.txt (line 1)) (3.4.1)\n",
      "Requirement already satisfied: idna<4,>=2.5 in ./.venv/lib/python3.13/site-packages (from requests->transformers->-r requirements.txt (line 1)) (3.10)\n",
      "Requirement already satisfied: urllib3<3,>=1.21.1 in ./.venv/lib/python3.13/site-packages (from requests->transformers->-r requirements.txt (line 1)) (2.3.0)\n",
      "Requirement already satisfied: certifi>=2017.4.17 in ./.venv/lib/python3.13/site-packages (from requests->transformers->-r requirements.txt (line 1)) (2025.1.31)\n",
      "Requirement already satisfied: MarkupSafe>=2.0 in ./.venv/lib/python3.13/site-packages (from jinja2->torch->-r requirements.txt (line 3)) (3.0.2)\n",
      "Requirement already satisfied: pytz>=2020.1 in ./.venv/lib/python3.13/site-packages (from pandas->datasets->-r requirements.txt (line 2)) (2025.1)\n",
      "Requirement already satisfied: tzdata>=2022.7 in ./.venv/lib/python3.13/site-packages (from pandas->datasets->-r requirements.txt (line 2)) (2025.1)\n",
      "Note: you may need to restart the kernel to use updated packages.\n"
     ]
    },
    {
     "name": "stderr",
     "output_type": "stream",
     "text": [
      "/home/frank/Desktop/code/data_mining/.venv/lib/python3.13/site-packages/tqdm/auto.py:21: TqdmWarning: IProgress not found. Please update jupyter and ipywidgets. See https://ipywidgets.readthedocs.io/en/stable/user_install.html\n",
      "  from .autonotebook import tqdm as notebook_tqdm\n"
     ]
    }
   ],
   "source": [
    "%pip install -r requirements.txt\n",
    "\n",
    "import torch\n",
    "import torch.nn as nn\n",
    "import numpy as np\n",
    "from datasets import load_dataset\n",
    "from transformers import AutoModel, AutoTokenizer\n",
    "from torch.utils.data import DataLoader, TensorDataset\n",
    "from sklearn.metrics import f1_score, accuracy_score\n",
    "import matplotlib.pyplot as plt\n",
    "\n",
    "device = torch.device(\"cuda\" if torch.cuda.is_available() else \"cpu\")\n",
    "def print_available_memory(device=device):\n",
    "    free, total = torch.cuda.mem_get_info(device)\n",
    "    free = free/1024**3\n",
    "    total = total/1024**3\n",
    "    print(\"Memory available: {:.3f}/{:.3f}GB\".format(free, total))"
   ]
  },
  {
   "cell_type": "markdown",
   "metadata": {},
   "source": [
    "We now load the dataset. Notice how most of the memory of the GPU is still available, since the dataset was loaded into regular RAM memory instead of GPU."
   ]
  },
  {
   "cell_type": "code",
   "execution_count": 2,
   "metadata": {},
   "outputs": [
    {
     "name": "stdout",
     "output_type": "stream",
     "text": [
      "Memory available: 10.347/11.584GB\n"
     ]
    }
   ],
   "source": [
    "emotions_dataset = load_dataset(\"emotion\")\n",
    "print_available_memory(device)"
   ]
  },
  {
   "cell_type": "markdown",
   "metadata": {},
   "source": [
    "Now we will use a pretrained model to transform the text into numerical representations. The model chosen was `distilbert-base-uncased`, as in the book. \n",
    "\n",
    "Notice how, for the tokenizer, the flag `padding=True` is set. This means that shorter sentences will be appended zeros at the end so as to have all the same length. An `attention_mask` is used to tell the language model it shouldn't process those zeros as regular tokens and just output zeros on those positions as well. Padding will become important later on when classifying. The `truncation=True` flag truncates the token sequences to fit the context window of the model. It is probably unnecessary since the token sequences aren't too long anyway (there used to be a hard limit on the number of characters per tweet), but is nevertheless a good idea to set it in order to prevent execution errors later."
   ]
  },
  {
   "cell_type": "code",
   "execution_count": 3,
   "metadata": {},
   "outputs": [
    {
     "name": "stdout",
     "output_type": "stream",
     "text": [
      "Memory available: 10.032/11.584GB\n"
     ]
    }
   ],
   "source": [
    "model_checkpoint = \"distilbert-base-uncased\"\n",
    "model = AutoModel.from_pretrained(model_checkpoint).to(device)\n",
    "tokenizer = AutoTokenizer.from_pretrained(model_checkpoint)\n",
    "\n",
    "def tokenize(batch):\n",
    "    return tokenizer(batch[\"text\"], padding=True, truncation=True)\n",
    "print_available_memory(device)"
   ]
  },
  {
   "cell_type": "markdown",
   "metadata": {},
   "source": [
    "Notice how the model was not memory-heavy at all even when explicitly loaded onto the GPU. It's actually a very small model: the `.safetensors` file of weights on its official [Hugging Face repository](https://huggingface.co/distilbert/distilbert-base-uncased) is only 268MB (approximately the difference between the two outputs of `print_available_memory` so far).\n",
    "\n",
    "Its small size is due to the fact its a distilled model and not the actual BERT. This means outputs of this model can be suboptimal when compared to a full-blown LLM."
   ]
  },
  {
   "cell_type": "markdown",
   "metadata": {},
   "source": [
    "\n",
    "Now we tokenize each of the samples in the dataset.\n",
    "\n",
    "We are interested in the maximum length of token sequences among all of the dataset since we will need this for additional padding later. Due to the way the `transformer` dataset API works, it's more comfortable to pad token sequences twice: the `map` method appplies the `tokenize` function to each subset of data (among `train`, `validation` and `test`) separately, and due to the `padding=True` flag we set earlier, this pads each subset to its own, respective maximum length. But these lenghts may differ themselves, hence why we store their maximum length to be used for further padding later."
   ]
  },
  {
   "cell_type": "code",
   "execution_count": 4,
   "metadata": {},
   "outputs": [
    {
     "name": "stdout",
     "output_type": "stream",
     "text": [
      "DatasetDict({\n",
      "    train: Dataset({\n",
      "        features: ['text', 'label', 'input_ids', 'attention_mask'],\n",
      "        num_rows: 16000\n",
      "    })\n",
      "    validation: Dataset({\n",
      "        features: ['text', 'label', 'input_ids', 'attention_mask'],\n",
      "        num_rows: 2000\n",
      "    })\n",
      "    test: Dataset({\n",
      "        features: ['text', 'label', 'input_ids', 'attention_mask'],\n",
      "        num_rows: 2000\n",
      "    })\n",
      "})\n",
      "87\n",
      "Memory available: 10.013/11.584GB\n"
     ]
    }
   ],
   "source": [
    "emotions_encoded = emotions_dataset.map(tokenize, batched=True, batch_size=None)\n",
    "emotions_encoded.set_format(\"torch\", columns=[\"input_ids\", \"attention_mask\", \"label\"])\n",
    "\n",
    "max_length = max([emotions_encoded[subset]['input_ids'].shape[1] for subset in emotions_encoded.keys()])\n",
    "print(emotions_encoded)\n",
    "print(max_length)\n",
    "\n",
    "print_available_memory(device)"
   ]
  },
  {
   "cell_type": "markdown",
   "metadata": {},
   "source": [
    "Again, not much memory was used since the encodings have not (yet) been loaded into the GPU."
   ]
  },
  {
   "cell_type": "markdown",
   "metadata": {},
   "source": [
    "Now we actually compute the vector representations of the token sequences using the language model. Notice how the resulting matrices are transformed into vectors and then padded with trailing zeros to all have the same size. This is done so that a regular feed-forward neural network can be evaluated and trained on their classification."
   ]
  },
  {
   "cell_type": "code",
   "execution_count": 5,
   "metadata": {},
   "outputs": [
    {
     "name": "stdout",
     "output_type": "stream",
     "text": [
      "Memory available: 10.061/11.584GB\n"
     ]
    }
   ],
   "source": [
    "def compute_hidden_states(batch):\n",
    "    global max_length\n",
    "    inputs = {k:v.to(device) for k,v in batch.items() if k in tokenizer.model_input_names}\n",
    "\n",
    "    with torch.no_grad():\n",
    "        last_hidden_state = model(**inputs).last_hidden_state\n",
    "\n",
    "    batch_size, sequence_length, hidden_dim = last_hidden_state.shape\n",
    "    tensor = last_hidden_state.reshape(batch_size, sequence_length*hidden_dim)\n",
    "\n",
    "    padding = (max_length - sequence_length) * hidden_dim\n",
    "    padded = nn.functional.pad(tensor, (0, padding), \"constant\", 0)\n",
    "    return {\"hidden_state\": padded}\n",
    "        \n",
    "emotions_hidden = emotions_encoded.map(compute_hidden_states, batched=True)\n",
    "print_available_memory(device)"
   ]
  },
  {
   "cell_type": "markdown",
   "metadata": {},
   "source": [
    "Notice the memory usage did not increase that much since encodings are only loaded into the GPU by batches and inside the scope of `compute_hidden_states` and outputs are not (yet) sent to the GPU. By the time the `.map` method finishes, Python's garbage collector has likely freed all of the GPU memory used up by the inputs."
   ]
  },
  {
   "cell_type": "markdown",
   "metadata": {},
   "source": [
    "For training a classifier, however, we would like to load the data into the GPU directly since this will speed up execution significantly. Since the hardware permits it, we will load all of the dataset into the GPU's memory. We also make use of the `Dataset` and `DataLoader` classes as suggested by the [PyTorch documentation](https://pytorch.org/docs/stable/data.html)."
   ]
  },
  {
   "cell_type": "code",
   "execution_count": 6,
   "metadata": {},
   "outputs": [
    {
     "name": "stdout",
     "output_type": "stream",
     "text": [
      "Memory available: 5.414/11.584GB\n"
     ]
    }
   ],
   "source": [
    "X_train = emotions_hidden[\"train\"][\"hidden_state\"].to(device)\n",
    "y_train = emotions_hidden[\"train\"][\"label\"].to(device)\n",
    "\n",
    "train_dataset = TensorDataset(X_train, y_train)\n",
    "train_loader = DataLoader(train_dataset, batch_size=16, shuffle=True, num_workers=0)\n",
    "\n",
    "X_val = emotions_hidden[\"validation\"][\"hidden_state\"].to(device)\n",
    "y_val = emotions_hidden[\"validation\"][\"label\"].to(device)\n",
    "\n",
    "val_dataset = TensorDataset(X_val, y_val)\n",
    "val_loader = DataLoader(val_dataset, batch_size=16, shuffle=False, num_workers=0)\n",
    "\n",
    "X_test = emotions_hidden[\"test\"][\"hidden_state\"].to(device)\n",
    "y_test = emotions_hidden[\"test\"][\"label\"].to(device)\n",
    "\n",
    "test_dataset = TensorDataset(X_test, y_test)\n",
    "test_loader = DataLoader(test_dataset, batch_size=16, shuffle=False, num_workers=0)\n",
    "\n",
    "print_available_memory(device)"
   ]
  },
  {
   "cell_type": "markdown",
   "metadata": {},
   "source": [
    "Notice that, this time, around 5GB of memory were allocated. It is interesting to see the sizes of the tensors involved both for memory purposes and for further decisions on training the classifier:"
   ]
  },
  {
   "cell_type": "code",
   "execution_count": 7,
   "metadata": {},
   "outputs": [
    {
     "name": "stdout",
     "output_type": "stream",
     "text": [
      "Training tensor shape: torch.Size([16000, 66816])\n",
      "Validation tensor shape: torch.Size([2000, 66816])\n",
      "Testing tensor shape: torch.Size([2000, 66816])\n"
     ]
    }
   ],
   "source": [
    "print(f\"Training tensor shape: {X_train.shape}\")\n",
    "print(f\"Validation tensor shape: {X_val.shape}\")\n",
    "print(f\"Testing tensor shape: {X_test.shape}\")"
   ]
  },
  {
   "cell_type": "markdown",
   "metadata": {},
   "source": [
    "Notice how the dataset has a total of $20000$ samples, but due to using the whole sequence encodings instead of just the `[CLS]` token's, representations have $66816$ dimensions. More than thrice the size of the dataset! We must be careful to avoid overfitting when training our model.\n",
    "\n",
    "Now we set up and train a very simple feed-forward neural network using `pytorch` to classify these numerical representations. Notice how, to prevent overfitting, we used a dropout layer for the inputs."
   ]
  },
  {
   "cell_type": "code",
   "execution_count": 8,
   "metadata": {},
   "outputs": [],
   "source": [
    "class SentimentClassifier(nn.Module):\n",
    "    def __init__(self, input_dim, num_classes, hidden_dim, dropout):\n",
    "        super(SentimentClassifier, self).__init__()\n",
    "        self.__pipeline = nn.Sequential(\n",
    "            nn.Dropout(dropout),\n",
    "            nn.Linear(input_dim, hidden_dim),\n",
    "            nn.ReLU(),\n",
    "            nn.Linear(hidden_dim, num_classes),\n",
    "        )\n",
    "        \n",
    "    def forward(self, input):\n",
    "        return self.__pipeline(input)\n",
    "\n",
    "    def classify(self, input):\n",
    "        return torch.argmax(self(input), dim=1)"
   ]
  },
  {
   "cell_type": "markdown",
   "metadata": {},
   "source": [
    "We already know input sizes should be $66816$ and that there are a total of $6$ classes, but it's nevertheless a good idea to check this programmatically:"
   ]
  },
  {
   "cell_type": "code",
   "execution_count": 9,
   "metadata": {},
   "outputs": [
    {
     "name": "stdout",
     "output_type": "stream",
     "text": [
      "Input dimension for the classifier: 66816\n",
      "Number of classes: 6\n"
     ]
    }
   ],
   "source": [
    "input_dim = X_train.shape[1]\n",
    "num_classes = len(y_train.unique())\n",
    "\n",
    "print(\"Input dimension for the classifier:\", input_dim)\n",
    "print(\"Number of classes:\", num_classes)"
   ]
  },
  {
   "cell_type": "markdown",
   "metadata": {},
   "source": [
    "Finally, we are able to define our training and evaluation methods. We make use of cross-entropy loss and a standard stochastic gradient descent for training. We set 20 epochs to start, but we will discuss this figure later."
   ]
  },
  {
   "cell_type": "code",
   "execution_count": 10,
   "metadata": {},
   "outputs": [],
   "source": [
    "def train_classifier(learning_rate, hidden_neurons, momentum, dropout_chance, n_epochs=20, verbose=False):\n",
    "    global input_dim\n",
    "    global num_classes\n",
    "    global train_loader, val_loader\n",
    "\n",
    "    loss_function = nn.CrossEntropyLoss(reduction='sum')\n",
    "    def compute_validation_loss():\n",
    "        total_loss = 0.0\n",
    "        classifier.eval() # Puts the model in \"evaluation\" mode. This deactivates the Dropout layer, as desired for validation purposes.\n",
    "        with torch.no_grad():  # Disable gradient calculation, since no training is needed.\n",
    "            for batch_data, batch_labels in val_loader:\n",
    "                batch_output = classifier(batch_data)\n",
    "                total_loss += loss_function(batch_output, batch_labels)\n",
    "\n",
    "        return total_loss / len(val_loader.dataset)    \n",
    "\n",
    "    classifier = SentimentClassifier(input_dim=input_dim, hidden_dim=hidden_neurons, num_classes=num_classes, dropout=dropout_chance).to(device)\n",
    "    optimizer = torch.optim.SGD(classifier.parameters(), lr=learning_rate, momentum=momentum)\n",
    "\n",
    "    val_losses=np.zeros(n_epochs) # History of losses for the validation set\n",
    "    train_losses=np.zeros(n_epochs) # History of losses for the training set\n",
    "    for epoch in range(n_epochs):\n",
    "        classifier.train() # Put the model in \"training\" mode. Necessary since this activates the Dropout layer.\n",
    "        for batch_data, batch_labels in train_loader: # Training loop. Go over the entire training data once. \n",
    "            optimizer.zero_grad()\n",
    "            batch_output = classifier(batch_data)\n",
    "            loss = loss_function(batch_output, batch_labels)\n",
    "            train_losses[epoch]+=loss\n",
    "            loss.backward()\n",
    "            optimizer.step()\n",
    "        train_losses[epoch]/=len(train_loader.dataset) # We want the average loss per sample\n",
    "\n",
    "        val_losses[epoch]=compute_validation_loss()\n",
    "        if verbose:\n",
    "            print(f\"Epoch: {epoch+1}/{n_epochs}\")\n",
    "            print(f\"Training loss: {train_losses[epoch]}\")\n",
    "            print(f\"Validation loss: {val_losses[epoch]}\")\n",
    "\n",
    "\n",
    "    return train_losses, val_losses, classifier\n",
    "\n",
    "def evaluate_classifier(classifier, verbose=False):\n",
    "    global test_loader\n",
    "\n",
    "    predictions = []\n",
    "    labels = []\n",
    "\n",
    "    classifier.eval() # Again, deactivate the Dropout layer\n",
    "    with torch.no_grad():\n",
    "        for batch_data, batch_labels in test_loader:\n",
    "            predicts = classifier.classify(batch_data).cpu().numpy()\n",
    "            predictions.extend(predicts)\n",
    "            labels.extend(batch_labels.cpu().numpy())\n",
    "\n",
    "    accuracy = accuracy_score(predictions, labels)\n",
    "    f1 = f1_score(predictions, labels, average='weighted')\n",
    "\n",
    "    if verbose:\n",
    "        print(\"Accuracy: {:.3f}%\".format(accuracy*100))\n",
    "        print(\"F1-score: {:.3f}\".format(f1))\n",
    "        \n",
    "    return accuracy, f1\n",
    "\n",
    "def plot_training(train_losses, val_losses):\n",
    "    plt.plot(train_losses, label=\"Training\")\n",
    "    plt.plot(val_losses, label=\"Validation\")\n",
    "    plt.xticks(range(0,len(train_losses),5))\n",
    "    plt.legend(loc=\"upper right\")\n",
    "    plt.xlabel(\"Epoch\")\n",
    "    plt.ylabel(\"Cross-Entropy Loss\")\n",
    "    plt.show"
   ]
  },
  {
   "cell_type": "markdown",
   "metadata": {},
   "source": [
    "Now we grid-search among a few hyperparameter combinations. Notice how the number of parameters of our classifier will be\n",
    "$$\n",
    "    (66818+1)\\cdot h + (h+1)\\cdot 6\n",
    ",$$\n",
    "where $h$ is the hidden dimension we choose. Keeping in mind we have only $20000$ samples, it is important to keep $h$ small since we may end up with a lot of overfitting otherwise.\n",
    "\n",
    "The criterion for deciding an optimal classifier will be simply comparing accuracies."
   ]
  },
  {
   "cell_type": "code",
   "execution_count": 11,
   "metadata": {},
   "outputs": [
    {
     "name": "stdout",
     "output_type": "stream",
     "text": [
      "Finished evaluating parameter combination {'learning_rate': 0.0001, 'hidden_neurons': 4, 'dropout_chance': 0.2, 'momentum': 0.5}\n",
      "Finished evaluating parameter combination {'learning_rate': 0.0001, 'hidden_neurons': 4, 'dropout_chance': 0.2, 'momentum': 0.8}\n",
      "Finished evaluating parameter combination {'learning_rate': 0.0001, 'hidden_neurons': 4, 'dropout_chance': 0.3, 'momentum': 0.5}\n",
      "Finished evaluating parameter combination {'learning_rate': 0.0001, 'hidden_neurons': 4, 'dropout_chance': 0.3, 'momentum': 0.8}\n",
      "Finished evaluating parameter combination {'learning_rate': 0.0001, 'hidden_neurons': 4, 'dropout_chance': 0.5, 'momentum': 0.5}\n",
      "Finished evaluating parameter combination {'learning_rate': 0.0001, 'hidden_neurons': 4, 'dropout_chance': 0.5, 'momentum': 0.8}\n",
      "Finished evaluating parameter combination {'learning_rate': 0.0001, 'hidden_neurons': 6, 'dropout_chance': 0.2, 'momentum': 0.5}\n",
      "Finished evaluating parameter combination {'learning_rate': 0.0001, 'hidden_neurons': 6, 'dropout_chance': 0.2, 'momentum': 0.8}\n",
      "Finished evaluating parameter combination {'learning_rate': 0.0001, 'hidden_neurons': 6, 'dropout_chance': 0.3, 'momentum': 0.5}\n",
      "Finished evaluating parameter combination {'learning_rate': 0.0001, 'hidden_neurons': 6, 'dropout_chance': 0.3, 'momentum': 0.8}\n",
      "Finished evaluating parameter combination {'learning_rate': 0.0001, 'hidden_neurons': 6, 'dropout_chance': 0.5, 'momentum': 0.5}\n",
      "Finished evaluating parameter combination {'learning_rate': 0.0001, 'hidden_neurons': 6, 'dropout_chance': 0.5, 'momentum': 0.8}\n",
      "Finished evaluating parameter combination {'learning_rate': 0.0001, 'hidden_neurons': 8, 'dropout_chance': 0.2, 'momentum': 0.5}\n",
      "Finished evaluating parameter combination {'learning_rate': 0.0001, 'hidden_neurons': 8, 'dropout_chance': 0.2, 'momentum': 0.8}\n",
      "Finished evaluating parameter combination {'learning_rate': 0.0001, 'hidden_neurons': 8, 'dropout_chance': 0.3, 'momentum': 0.5}\n",
      "Finished evaluating parameter combination {'learning_rate': 0.0001, 'hidden_neurons': 8, 'dropout_chance': 0.3, 'momentum': 0.8}\n",
      "Finished evaluating parameter combination {'learning_rate': 0.0001, 'hidden_neurons': 8, 'dropout_chance': 0.5, 'momentum': 0.5}\n",
      "Finished evaluating parameter combination {'learning_rate': 0.0001, 'hidden_neurons': 8, 'dropout_chance': 0.5, 'momentum': 0.8}\n",
      "Finished evaluating parameter combination {'learning_rate': 0.0001, 'hidden_neurons': 16, 'dropout_chance': 0.2, 'momentum': 0.5}\n",
      "Finished evaluating parameter combination {'learning_rate': 0.0001, 'hidden_neurons': 16, 'dropout_chance': 0.2, 'momentum': 0.8}\n",
      "Finished evaluating parameter combination {'learning_rate': 0.0001, 'hidden_neurons': 16, 'dropout_chance': 0.3, 'momentum': 0.5}\n",
      "Finished evaluating parameter combination {'learning_rate': 0.0001, 'hidden_neurons': 16, 'dropout_chance': 0.3, 'momentum': 0.8}\n",
      "Finished evaluating parameter combination {'learning_rate': 0.0001, 'hidden_neurons': 16, 'dropout_chance': 0.5, 'momentum': 0.5}\n",
      "Finished evaluating parameter combination {'learning_rate': 0.0001, 'hidden_neurons': 16, 'dropout_chance': 0.5, 'momentum': 0.8}\n",
      "Finished evaluating parameter combination {'learning_rate': 0.0001, 'hidden_neurons': 32, 'dropout_chance': 0.2, 'momentum': 0.5}\n",
      "Finished evaluating parameter combination {'learning_rate': 0.0001, 'hidden_neurons': 32, 'dropout_chance': 0.2, 'momentum': 0.8}\n",
      "Finished evaluating parameter combination {'learning_rate': 0.0001, 'hidden_neurons': 32, 'dropout_chance': 0.3, 'momentum': 0.5}\n",
      "Finished evaluating parameter combination {'learning_rate': 0.0001, 'hidden_neurons': 32, 'dropout_chance': 0.3, 'momentum': 0.8}\n",
      "Finished evaluating parameter combination {'learning_rate': 0.0001, 'hidden_neurons': 32, 'dropout_chance': 0.5, 'momentum': 0.5}\n",
      "Finished evaluating parameter combination {'learning_rate': 0.0001, 'hidden_neurons': 32, 'dropout_chance': 0.5, 'momentum': 0.8}\n",
      "Finished evaluating parameter combination {'learning_rate': 0.0001, 'hidden_neurons': 64, 'dropout_chance': 0.2, 'momentum': 0.5}\n",
      "Finished evaluating parameter combination {'learning_rate': 0.0001, 'hidden_neurons': 64, 'dropout_chance': 0.2, 'momentum': 0.8}\n",
      "Finished evaluating parameter combination {'learning_rate': 0.0001, 'hidden_neurons': 64, 'dropout_chance': 0.3, 'momentum': 0.5}\n",
      "Finished evaluating parameter combination {'learning_rate': 0.0001, 'hidden_neurons': 64, 'dropout_chance': 0.3, 'momentum': 0.8}\n",
      "Finished evaluating parameter combination {'learning_rate': 0.0001, 'hidden_neurons': 64, 'dropout_chance': 0.5, 'momentum': 0.5}\n",
      "Finished evaluating parameter combination {'learning_rate': 0.0001, 'hidden_neurons': 64, 'dropout_chance': 0.5, 'momentum': 0.8}\n",
      "Finished evaluating parameter combination {'learning_rate': 0.0005, 'hidden_neurons': 4, 'dropout_chance': 0.2, 'momentum': 0.5}\n",
      "Finished evaluating parameter combination {'learning_rate': 0.0005, 'hidden_neurons': 4, 'dropout_chance': 0.2, 'momentum': 0.8}\n",
      "Finished evaluating parameter combination {'learning_rate': 0.0005, 'hidden_neurons': 4, 'dropout_chance': 0.3, 'momentum': 0.5}\n",
      "Finished evaluating parameter combination {'learning_rate': 0.0005, 'hidden_neurons': 4, 'dropout_chance': 0.3, 'momentum': 0.8}\n",
      "Finished evaluating parameter combination {'learning_rate': 0.0005, 'hidden_neurons': 4, 'dropout_chance': 0.5, 'momentum': 0.5}\n",
      "Finished evaluating parameter combination {'learning_rate': 0.0005, 'hidden_neurons': 4, 'dropout_chance': 0.5, 'momentum': 0.8}\n",
      "Finished evaluating parameter combination {'learning_rate': 0.0005, 'hidden_neurons': 6, 'dropout_chance': 0.2, 'momentum': 0.5}\n",
      "Finished evaluating parameter combination {'learning_rate': 0.0005, 'hidden_neurons': 6, 'dropout_chance': 0.2, 'momentum': 0.8}\n",
      "Finished evaluating parameter combination {'learning_rate': 0.0005, 'hidden_neurons': 6, 'dropout_chance': 0.3, 'momentum': 0.5}\n",
      "Finished evaluating parameter combination {'learning_rate': 0.0005, 'hidden_neurons': 6, 'dropout_chance': 0.3, 'momentum': 0.8}\n",
      "Finished evaluating parameter combination {'learning_rate': 0.0005, 'hidden_neurons': 6, 'dropout_chance': 0.5, 'momentum': 0.5}\n",
      "Finished evaluating parameter combination {'learning_rate': 0.0005, 'hidden_neurons': 6, 'dropout_chance': 0.5, 'momentum': 0.8}\n",
      "Finished evaluating parameter combination {'learning_rate': 0.0005, 'hidden_neurons': 8, 'dropout_chance': 0.2, 'momentum': 0.5}\n",
      "Finished evaluating parameter combination {'learning_rate': 0.0005, 'hidden_neurons': 8, 'dropout_chance': 0.2, 'momentum': 0.8}\n",
      "Finished evaluating parameter combination {'learning_rate': 0.0005, 'hidden_neurons': 8, 'dropout_chance': 0.3, 'momentum': 0.5}\n",
      "Finished evaluating parameter combination {'learning_rate': 0.0005, 'hidden_neurons': 8, 'dropout_chance': 0.3, 'momentum': 0.8}\n",
      "Finished evaluating parameter combination {'learning_rate': 0.0005, 'hidden_neurons': 8, 'dropout_chance': 0.5, 'momentum': 0.5}\n",
      "Finished evaluating parameter combination {'learning_rate': 0.0005, 'hidden_neurons': 8, 'dropout_chance': 0.5, 'momentum': 0.8}\n",
      "Finished evaluating parameter combination {'learning_rate': 0.0005, 'hidden_neurons': 16, 'dropout_chance': 0.2, 'momentum': 0.5}\n",
      "Finished evaluating parameter combination {'learning_rate': 0.0005, 'hidden_neurons': 16, 'dropout_chance': 0.2, 'momentum': 0.8}\n",
      "Finished evaluating parameter combination {'learning_rate': 0.0005, 'hidden_neurons': 16, 'dropout_chance': 0.3, 'momentum': 0.5}\n",
      "Finished evaluating parameter combination {'learning_rate': 0.0005, 'hidden_neurons': 16, 'dropout_chance': 0.3, 'momentum': 0.8}\n",
      "Finished evaluating parameter combination {'learning_rate': 0.0005, 'hidden_neurons': 16, 'dropout_chance': 0.5, 'momentum': 0.5}\n",
      "Finished evaluating parameter combination {'learning_rate': 0.0005, 'hidden_neurons': 16, 'dropout_chance': 0.5, 'momentum': 0.8}\n",
      "Finished evaluating parameter combination {'learning_rate': 0.0005, 'hidden_neurons': 32, 'dropout_chance': 0.2, 'momentum': 0.5}\n",
      "Finished evaluating parameter combination {'learning_rate': 0.0005, 'hidden_neurons': 32, 'dropout_chance': 0.2, 'momentum': 0.8}\n",
      "Finished evaluating parameter combination {'learning_rate': 0.0005, 'hidden_neurons': 32, 'dropout_chance': 0.3, 'momentum': 0.5}\n",
      "Finished evaluating parameter combination {'learning_rate': 0.0005, 'hidden_neurons': 32, 'dropout_chance': 0.3, 'momentum': 0.8}\n",
      "Finished evaluating parameter combination {'learning_rate': 0.0005, 'hidden_neurons': 32, 'dropout_chance': 0.5, 'momentum': 0.5}\n",
      "Finished evaluating parameter combination {'learning_rate': 0.0005, 'hidden_neurons': 32, 'dropout_chance': 0.5, 'momentum': 0.8}\n",
      "Finished evaluating parameter combination {'learning_rate': 0.0005, 'hidden_neurons': 64, 'dropout_chance': 0.2, 'momentum': 0.5}\n",
      "Finished evaluating parameter combination {'learning_rate': 0.0005, 'hidden_neurons': 64, 'dropout_chance': 0.2, 'momentum': 0.8}\n",
      "Finished evaluating parameter combination {'learning_rate': 0.0005, 'hidden_neurons': 64, 'dropout_chance': 0.3, 'momentum': 0.5}\n",
      "Finished evaluating parameter combination {'learning_rate': 0.0005, 'hidden_neurons': 64, 'dropout_chance': 0.3, 'momentum': 0.8}\n",
      "Finished evaluating parameter combination {'learning_rate': 0.0005, 'hidden_neurons': 64, 'dropout_chance': 0.5, 'momentum': 0.5}\n",
      "Finished evaluating parameter combination {'learning_rate': 0.0005, 'hidden_neurons': 64, 'dropout_chance': 0.5, 'momentum': 0.8}\n",
      "Finished evaluating parameter combination {'learning_rate': 0.001, 'hidden_neurons': 4, 'dropout_chance': 0.2, 'momentum': 0.5}\n",
      "Finished evaluating parameter combination {'learning_rate': 0.001, 'hidden_neurons': 4, 'dropout_chance': 0.2, 'momentum': 0.8}\n",
      "Finished evaluating parameter combination {'learning_rate': 0.001, 'hidden_neurons': 4, 'dropout_chance': 0.3, 'momentum': 0.5}\n",
      "Finished evaluating parameter combination {'learning_rate': 0.001, 'hidden_neurons': 4, 'dropout_chance': 0.3, 'momentum': 0.8}\n",
      "Finished evaluating parameter combination {'learning_rate': 0.001, 'hidden_neurons': 4, 'dropout_chance': 0.5, 'momentum': 0.5}\n",
      "Finished evaluating parameter combination {'learning_rate': 0.001, 'hidden_neurons': 4, 'dropout_chance': 0.5, 'momentum': 0.8}\n",
      "Finished evaluating parameter combination {'learning_rate': 0.001, 'hidden_neurons': 6, 'dropout_chance': 0.2, 'momentum': 0.5}\n",
      "Finished evaluating parameter combination {'learning_rate': 0.001, 'hidden_neurons': 6, 'dropout_chance': 0.2, 'momentum': 0.8}\n",
      "Finished evaluating parameter combination {'learning_rate': 0.001, 'hidden_neurons': 6, 'dropout_chance': 0.3, 'momentum': 0.5}\n",
      "Finished evaluating parameter combination {'learning_rate': 0.001, 'hidden_neurons': 6, 'dropout_chance': 0.3, 'momentum': 0.8}\n",
      "Finished evaluating parameter combination {'learning_rate': 0.001, 'hidden_neurons': 6, 'dropout_chance': 0.5, 'momentum': 0.5}\n",
      "Finished evaluating parameter combination {'learning_rate': 0.001, 'hidden_neurons': 6, 'dropout_chance': 0.5, 'momentum': 0.8}\n",
      "Finished evaluating parameter combination {'learning_rate': 0.001, 'hidden_neurons': 8, 'dropout_chance': 0.2, 'momentum': 0.5}\n",
      "Finished evaluating parameter combination {'learning_rate': 0.001, 'hidden_neurons': 8, 'dropout_chance': 0.2, 'momentum': 0.8}\n",
      "Finished evaluating parameter combination {'learning_rate': 0.001, 'hidden_neurons': 8, 'dropout_chance': 0.3, 'momentum': 0.5}\n",
      "Finished evaluating parameter combination {'learning_rate': 0.001, 'hidden_neurons': 8, 'dropout_chance': 0.3, 'momentum': 0.8}\n",
      "Finished evaluating parameter combination {'learning_rate': 0.001, 'hidden_neurons': 8, 'dropout_chance': 0.5, 'momentum': 0.5}\n",
      "Finished evaluating parameter combination {'learning_rate': 0.001, 'hidden_neurons': 8, 'dropout_chance': 0.5, 'momentum': 0.8}\n",
      "Finished evaluating parameter combination {'learning_rate': 0.001, 'hidden_neurons': 16, 'dropout_chance': 0.2, 'momentum': 0.5}\n",
      "Finished evaluating parameter combination {'learning_rate': 0.001, 'hidden_neurons': 16, 'dropout_chance': 0.2, 'momentum': 0.8}\n",
      "Finished evaluating parameter combination {'learning_rate': 0.001, 'hidden_neurons': 16, 'dropout_chance': 0.3, 'momentum': 0.5}\n",
      "Finished evaluating parameter combination {'learning_rate': 0.001, 'hidden_neurons': 16, 'dropout_chance': 0.3, 'momentum': 0.8}\n",
      "Finished evaluating parameter combination {'learning_rate': 0.001, 'hidden_neurons': 16, 'dropout_chance': 0.5, 'momentum': 0.5}\n",
      "Finished evaluating parameter combination {'learning_rate': 0.001, 'hidden_neurons': 16, 'dropout_chance': 0.5, 'momentum': 0.8}\n",
      "Finished evaluating parameter combination {'learning_rate': 0.001, 'hidden_neurons': 32, 'dropout_chance': 0.2, 'momentum': 0.5}\n",
      "Finished evaluating parameter combination {'learning_rate': 0.001, 'hidden_neurons': 32, 'dropout_chance': 0.2, 'momentum': 0.8}\n",
      "Finished evaluating parameter combination {'learning_rate': 0.001, 'hidden_neurons': 32, 'dropout_chance': 0.3, 'momentum': 0.5}\n",
      "Finished evaluating parameter combination {'learning_rate': 0.001, 'hidden_neurons': 32, 'dropout_chance': 0.3, 'momentum': 0.8}\n",
      "Finished evaluating parameter combination {'learning_rate': 0.001, 'hidden_neurons': 32, 'dropout_chance': 0.5, 'momentum': 0.5}\n",
      "Finished evaluating parameter combination {'learning_rate': 0.001, 'hidden_neurons': 32, 'dropout_chance': 0.5, 'momentum': 0.8}\n",
      "Finished evaluating parameter combination {'learning_rate': 0.001, 'hidden_neurons': 64, 'dropout_chance': 0.2, 'momentum': 0.5}\n",
      "Finished evaluating parameter combination {'learning_rate': 0.001, 'hidden_neurons': 64, 'dropout_chance': 0.2, 'momentum': 0.8}\n",
      "Finished evaluating parameter combination {'learning_rate': 0.001, 'hidden_neurons': 64, 'dropout_chance': 0.3, 'momentum': 0.5}\n",
      "Finished evaluating parameter combination {'learning_rate': 0.001, 'hidden_neurons': 64, 'dropout_chance': 0.3, 'momentum': 0.8}\n",
      "Finished evaluating parameter combination {'learning_rate': 0.001, 'hidden_neurons': 64, 'dropout_chance': 0.5, 'momentum': 0.5}\n",
      "Finished evaluating parameter combination {'learning_rate': 0.001, 'hidden_neurons': 64, 'dropout_chance': 0.5, 'momentum': 0.8}\n"
     ]
    }
   ],
   "source": [
    "learning_rates=[0.0001, 0.0005, 0.001]\n",
    "hidden_neurons=[4, 6, 8, 16, 32, 64]\n",
    "dropout_chances=[0.2,0.3,0.5]\n",
    "momentums=[0.5, 0.8]\n",
    "\n",
    "parameters = {\"learning_rate\":learning_rates, \"hidden_neurons\": hidden_neurons, 'dropout_chance':dropout_chances, 'momentum':momentums}\n",
    "\n",
    "from itertools import product\n",
    "def unroll_dict(dictionary:dict[str, list]):\n",
    "    keys, values = zip(*dictionary.items())\n",
    "    \n",
    "    return [dict(zip(keys, v)) for v in product(*values)]\n",
    "\n",
    "best_accuracy=0.0\n",
    "\n",
    "best_f1=0.0\n",
    "best_training_history=[]\n",
    "best_validation_history=[]\n",
    "best_classifier = None\n",
    "best_parameters={}\n",
    "\n",
    "for param_combination in unroll_dict(parameters):\n",
    "    training_history, validation_history, classifier = train_classifier(**param_combination)\n",
    "    accuracy, f1 = evaluate_classifier(classifier)\n",
    "\n",
    "    if accuracy>best_accuracy:\n",
    "        best_training_history = training_history\n",
    "        best_validation_history = validation_history\n",
    "        best_classifier = classifier\n",
    "        best_parameters=param_combination\n",
    "\n",
    "        best_accuracy = accuracy\n",
    "        best_f1 = f1\n",
    "\n",
    "    print(f\"Finished evaluating parameter combination {param_combination}\")\n"
   ]
  },
  {
   "cell_type": "markdown",
   "metadata": {},
   "source": [
    "Now we will study and draw conclusions from the optimal model. We can visualize with a simple plot the training:"
   ]
  },
  {
   "cell_type": "code",
   "execution_count": 12,
   "metadata": {},
   "outputs": [
    {
     "name": "stdout",
     "output_type": "stream",
     "text": [
      "Accuracy: 63.850%\n",
      "F1-score: 0.648\n"
     ]
    },
    {
     "data": {
      "text/plain": [
       "(0.6385, 0.6479257209866386)"
      ]
     },
     "execution_count": 12,
     "metadata": {},
     "output_type": "execute_result"
    },
    {
     "data": {
      "image/png": "[encoded data removed]",
      "text/plain": [
       "<Figure size 640x480 with 1 Axes>"
      ]
     },
     "metadata": {},
     "output_type": "display_data"
    }
   ],
   "source": [
    "plot_training(best_training_history, best_validation_history)\n",
    "evaluate_classifier(best_classifier, verbose=True)"
   ]
  },
  {
   "cell_type": "markdown",
   "metadata": {},
   "source": [
    "Notice how after six epochs or so, validation loss stops decreasing and starts wiggling, indicating overfitting. Hence, we will re-train our optimal model to that number of epochs.\n",
    "\n",
    "Let's visualize what the optimal parameter combination was:"
   ]
  },
  {
   "cell_type": "code",
   "execution_count": null,
   "metadata": {},
   "outputs": [
    {
     "name": "stdout",
     "output_type": "stream",
     "text": [
      "The optimal parameter combination was:  {'learning_rate': 0.0001, 'hidden_neurons': 32, 'dropout_chance': 0.5, 'momentum': 0.5}\n"
     ]
    }
   ],
   "source": [
    "print(\"The optimal parameter combination was: \", best_parameters)"
   ]
  },
  {
   "cell_type": "markdown",
   "metadata": {},
   "source": [
    "Notice how the learning rate and momentum were the lowest possible, while the dropout chance was the highest. This, together with the plot of the validation indicate that the model is clearly overfit.\n",
    "\n",
    "In order to try to get the best possible classifier, we will repeat training only for the optimal parameters and number of epochs:"
   ]
  },
  {
   "cell_type": "code",
   "execution_count": 44,
   "metadata": {},
   "outputs": [
    {
     "name": "stdout",
     "output_type": "stream",
     "text": [
      "Optimal number of epochs: 6\n",
      "Accuracy: 63.800%\n",
      "F1-score: 0.642\n"
     ]
    },
    {
     "data": {
      "image/png": "[encoded data removed]",
      "text/plain": [
       "<Figure size 640x480 with 1 Axes>"
      ]
     },
     "metadata": {},
     "output_type": "display_data"
    }
   ],
   "source": [
    "optimal_epochs = np.argmin(best_validation_history)\n",
    "print(\"Optimal number of epochs:\", optimal_epochs)\n",
    "training_history, validation_history, classifier = train_classifier(n_epochs=10, **best_parameters)\n",
    "accuracy, f1 = evaluate_classifier(classifier, verbose=True)\n",
    "\n",
    "plot_training(training_history, validation_history)"
   ]
  },
  {
   "cell_type": "markdown",
   "metadata": {},
   "source": [
    "The accuracy obtained was not much better than before."
   ]
  },
  {
   "cell_type": "markdown",
   "metadata": {},
   "source": [
    "## Conclusions\n",
    "\n",
    "Simple feed-forward neural networks were used as an attempt to classify the provided dataset. In no case was the accuracy obtained higher than 65%. We point toward three possible causes of this poor performance:\n",
    "\n",
    "1. The dataset may not be well prepared. In the book there are some examples of misclassified samples which have seemingly wrong labels. This noise in the data may cause an important loss of accuracy for any classifier. Also, perhaps the provided splits were not properly balanced.\n",
    "2. The language model used was small. A weight file of less than 300MB is remarkably small in the context of language models. Usually, language models' weights lay in the order of gigabytes. A poor hidden-state representation of the samples will definately lead to a poor classification, which may be what is happening here.\n",
    "3. Attempting to use all of the tokens instead of only the `[CLS]` one introduces unnecessary complexity. If one wishes to use the full sequences, it is necessary to introduce padding. This leads to all input samples for our classifier having an extremely large dimensionality, especially when compared to the training set size ($66818$ dimensions for $16000$ samples). Therefore, both a noisy input and a huge number of weights make it very hard for the classifier to generalize well."
   ]
  }
 ],
 "metadata": {
  "kernelspec": {
   "display_name": ".venv",
   "language": "python",
   "name": "python3"
  },
  "language_info": {
   "codemirror_mode": {
    "name": "ipython",
    "version": 3
   },
   "file_extension": ".py",
   "mimetype": "text/x-python",
   "name": "python",
   "nbconvert_exporter": "python",
   "pygments_lexer": "ipython3",
   "version": "3.13.2"
  }
 },
 "nbformat": 4,
 "nbformat_minor": 2
}
